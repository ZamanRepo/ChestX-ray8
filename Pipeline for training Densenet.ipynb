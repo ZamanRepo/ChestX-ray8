{
 "cells": [
  {
   "cell_type": "markdown",
   "metadata": {},
   "source": [
    "<a name=\"densenet\"></a>\n",
    "# Densenet\n",
    "\n",
    "In this notebook we will be creating a pipeline using a pre-trained Densenet model which can be used for any image classification task. \n",
    "\n",
    "Densenet is a convolutional network where each layer is connected to all other layers that are deeper in the network\n",
    "- The first layer is connected to the 2nd, 3rd, 4th etc.\n",
    "- The second layer is connected to the 3rd, 4th, 5th etc.\n",
    "\n",
    "Like this:\n",
    "\n",
    "<img src=\"Images/densenet.png\" alt=\"U-net Image\"  align=\"middle\"/>\n",
    "\n",
    "For a detailed explanation of Densenet, check out the source of the image above, a paper by Gao Huang et al. 2018 called [Densely Connected Convolutional Networks](https://arxiv.org/pdf/1608.06993.pdf).\n",
    "\n",
    "The cells below are set up to provide an exploration of the Keras implementation of Densenet."
   ]
  },
  {
   "cell_type": "markdown",
   "metadata": {},
   "source": [
    "### Importing Densenet from Keras"
   ]
  },
  {
   "cell_type": "code",
   "execution_count": 2,
   "metadata": {},
   "outputs": [],
   "source": [
    "import warnings\n",
    "warnings.filterwarnings('ignore')\n",
    "from keras.applications.densenet import DenseNet121\n",
    "from keras.layers import Dense, GlobalAveragePooling2D\n",
    "from keras.models import Model\n",
    "from keras import backend as K"
   ]
  },
  {
   "cell_type": "markdown",
   "metadata": {},
   "source": [
    "### Creating the base pre-trained model"
   ]
  },
  {
   "cell_type": "code",
   "execution_count": 4,
   "metadata": {},
   "outputs": [],
   "source": [
    "base_model = DenseNet121(weights='./nih/densenet.hdf5', include_top=False);"
   ]
  },
  {
   "cell_type": "markdown",
   "metadata": {},
   "source": [
    "### Printing the model summary"
   ]
  },
  {
   "cell_type": "code",
   "execution_count": 23,
   "metadata": {
    "scrolled": true
   },
   "outputs": [],
   "source": [
    "# base_model.summary()"
   ]
  },
  {
   "cell_type": "markdown",
   "metadata": {},
   "source": [
    "### Printing out the first five layers"
   ]
  },
  {
   "cell_type": "code",
   "execution_count": 9,
   "metadata": {
    "scrolled": true
   },
   "outputs": [
    {
     "name": "stdout",
     "output_type": "stream",
     "text": [
      "There are total 427 layers\n",
      "First 5 layers\n"
     ]
    },
    {
     "data": {
      "text/plain": [
       "[<keras.engine.input_layer.InputLayer at 0x7f577c626da0>,\n",
       " <keras.layers.convolutional.ZeroPadding2D at 0x7f579c231cc0>,\n",
       " <keras.layers.convolutional.Conv2D at 0x7f579c231c88>,\n",
       " <keras.layers.normalization.BatchNormalization at 0x7f577c4e06d8>,\n",
       " <keras.layers.core.Activation at 0x7f577c4e0a90>]"
      ]
     },
     "execution_count": 9,
     "metadata": {},
     "output_type": "execute_result"
    }
   ],
   "source": [
    "layers_l = base_model.layers\n",
    "print(f\"There are total {len(layers_l)} layers\")\n",
    "print(\"First 5 layers\")\n",
    "layers_l[0:5]"
   ]
  },
  {
   "cell_type": "markdown",
   "metadata": {},
   "source": [
    "### Printing out the last five layers"
   ]
  },
  {
   "cell_type": "code",
   "execution_count": 7,
   "metadata": {},
   "outputs": [
    {
     "name": "stdout",
     "output_type": "stream",
     "text": [
      "Last 5 layers\n"
     ]
    },
    {
     "data": {
      "text/plain": [
       "[<keras.layers.normalization.BatchNormalization at 0x7f571c16fcf8>,\n",
       " <keras.layers.core.Activation at 0x7f571c16fef0>,\n",
       " <keras.layers.convolutional.Conv2D at 0x7f571c0fff98>,\n",
       " <keras.layers.merge.Concatenate at 0x7f571c128940>,\n",
       " <keras.layers.normalization.BatchNormalization at 0x7f571c128ac8>]"
      ]
     },
     "execution_count": 7,
     "metadata": {},
     "output_type": "execute_result"
    }
   ],
   "source": [
    "print(\"Last 5 layers\")\n",
    "layers_l[-6:-1]"
   ]
  },
  {
   "cell_type": "markdown",
   "metadata": {},
   "source": [
    "### Getting the convolutional layers and print the first 5"
   ]
  },
  {
   "cell_type": "code",
   "execution_count": 12,
   "metadata": {},
   "outputs": [
    {
     "name": "stdout",
     "output_type": "stream",
     "text": [
      "The first five conv2D layers\n"
     ]
    },
    {
     "data": {
      "text/plain": [
       "[<keras.layers.convolutional.Conv2D at 0x7f579c231c88>,\n",
       " <keras.layers.convolutional.Conv2D at 0x7f577c4ce0f0>,\n",
       " <keras.layers.convolutional.Conv2D at 0x7f577c5930b8>,\n",
       " <keras.layers.convolutional.Conv2D at 0x7f577c393f60>,\n",
       " <keras.layers.convolutional.Conv2D at 0x7f577c3afe80>]"
      ]
     },
     "execution_count": 12,
     "metadata": {},
     "output_type": "execute_result"
    }
   ],
   "source": [
    "conv2D_layers = [layer for layer in base_model.layers if str(type(layer)).find('Conv2D') > -1]\n",
    "print(\"The first five conv2D layers\")\n",
    "conv2D_layers[0:5]"
   ]
  },
  {
   "cell_type": "markdown",
   "metadata": {},
   "source": [
    "### Printing out the total number of convolutional layers"
   ]
  },
  {
   "cell_type": "code",
   "execution_count": 13,
   "metadata": {},
   "outputs": [
    {
     "name": "stdout",
     "output_type": "stream",
     "text": [
      "There are 120 convolutional layers\n"
     ]
    }
   ],
   "source": [
    "print(f\"There are {len(conv2D_layers)} convolutional layers\")"
   ]
  },
  {
   "cell_type": "markdown",
   "metadata": {},
   "source": [
    "### Printing the number of channels in the input"
   ]
  },
  {
   "cell_type": "code",
   "execution_count": 14,
   "metadata": {},
   "outputs": [
    {
     "name": "stdout",
     "output_type": "stream",
     "text": [
      "The input has 3 channels\n"
     ]
    },
    {
     "data": {
      "text/plain": [
       "<tf.Tensor 'input_2:0' shape=(?, ?, ?, 3) dtype=float32>"
      ]
     },
     "execution_count": 14,
     "metadata": {},
     "output_type": "execute_result"
    }
   ],
   "source": [
    "print(\"The input has 3 channels\")\n",
    "base_model.input"
   ]
  },
  {
   "cell_type": "markdown",
   "metadata": {},
   "source": [
    "### Printing the number of output channels"
   ]
  },
  {
   "cell_type": "code",
   "execution_count": 15,
   "metadata": {},
   "outputs": [
    {
     "name": "stdout",
     "output_type": "stream",
     "text": [
      "The output has 1024 channels\n"
     ]
    },
    {
     "data": {
      "text/plain": [
       "<tf.Tensor 'relu_1/Relu:0' shape=(?, ?, ?, 1024) dtype=float32>"
      ]
     },
     "execution_count": 15,
     "metadata": {},
     "output_type": "execute_result"
    }
   ],
   "source": [
    "print(\"The output has 1024 channels\")\n",
    "x = base_model.output\n",
    "x"
   ]
  },
  {
   "cell_type": "markdown",
   "metadata": {},
   "source": [
    "### Adding a global spatial average pooling layer"
   ]
  },
  {
   "cell_type": "code",
   "execution_count": 16,
   "metadata": {},
   "outputs": [
    {
     "data": {
      "text/plain": [
       "<tf.Tensor 'global_average_pooling2d_1/Mean:0' shape=(?, 1024) dtype=float32>"
      ]
     },
     "execution_count": 16,
     "metadata": {},
     "output_type": "execute_result"
    }
   ],
   "source": [
    "x_pool = GlobalAveragePooling2D()(x)\n",
    "x_pool"
   ]
  },
  {
   "cell_type": "markdown",
   "metadata": {},
   "source": [
    "### Defining a set of five class labels to use as an example"
   ]
  },
  {
   "cell_type": "code",
   "execution_count": 17,
   "metadata": {},
   "outputs": [
    {
     "name": "stdout",
     "output_type": "stream",
     "text": [
      "In this example, we want our model to identify 5 classes\n"
     ]
    }
   ],
   "source": [
    "labels = ['Emphysema', \n",
    "          'Hernia', \n",
    "          'Mass', \n",
    "          'Pneumonia',  \n",
    "          'Edema']\n",
    "n_classes = len(labels)\n",
    "print(f\"In this example, we want our model to identify {n_classes} classes\")"
   ]
  },
  {
   "cell_type": "markdown",
   "metadata": {},
   "source": [
    "### Add a logistic layer the same size as the number of classes you're trying to predict"
   ]
  },
  {
   "cell_type": "code",
   "execution_count": 22,
   "metadata": {},
   "outputs": [
    {
     "name": "stdout",
     "output_type": "stream",
     "text": [
      "Predictions have 5 units, one for each class\n"
     ]
    },
    {
     "data": {
      "text/plain": [
       "<tf.Tensor 'dense_3/Softmax:0' shape=(?, 5) dtype=float32>"
      ]
     },
     "execution_count": 22,
     "metadata": {},
     "output_type": "execute_result"
    }
   ],
   "source": [
    "predictions = Dense(n_classes, activation=\"softmax\")(x_pool)\n",
    "print(f\"Predictions have {n_classes} units, one for each class\")\n",
    "predictions"
   ]
  },
  {
   "cell_type": "markdown",
   "metadata": {},
   "source": [
    "### Creating an updated model"
   ]
  },
  {
   "cell_type": "code",
   "execution_count": 20,
   "metadata": {},
   "outputs": [],
   "source": [
    "model = Model(inputs=base_model.input, outputs=predictions)"
   ]
  },
  {
   "cell_type": "markdown",
   "metadata": {},
   "source": [
    "### Compiling the model"
   ]
  },
  {
   "cell_type": "code",
   "execution_count": 21,
   "metadata": {},
   "outputs": [],
   "source": [
    "model.compile(optimizer='adam',loss='categorical_crossentropy')"
   ]
  },
  {
   "cell_type": "markdown",
   "metadata": {},
   "source": [
    "# Thank you !!!"
   ]
  }
 ],
 "metadata": {
  "kernelspec": {
   "display_name": "Python 3",
   "language": "python",
   "name": "python3"
  },
  "language_info": {
   "codemirror_mode": {
    "name": "ipython",
    "version": 3
   },
   "file_extension": ".py",
   "mimetype": "text/x-python",
   "name": "python",
   "nbconvert_exporter": "python",
   "pygments_lexer": "ipython3",
   "version": "3.6.3"
  }
 },
 "nbformat": 4,
 "nbformat_minor": 4
}
